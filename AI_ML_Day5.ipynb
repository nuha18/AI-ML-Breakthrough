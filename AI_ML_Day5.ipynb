{
  "cells": [
    {
      "cell_type": "markdown",
      "metadata": {
        "id": "view-in-github",
        "colab_type": "text"
      },
      "source": [
        "<a href=\"https://colab.research.google.com/github/nuha18/AI-ML-Breakthrough/blob/main/AI_ML_Day5.ipynb\" target=\"_parent\"><img src=\"https://colab.research.google.com/assets/colab-badge.svg\" alt=\"Open In Colab\"/></a>"
      ]
    },
    {
      "cell_type": "markdown",
      "id": "d0ea81d7",
      "metadata": {
        "id": "d0ea81d7"
      },
      "source": [
        "# 🧠 Reinforcement Learning with the NIM Game\n",
        "Let's teach our AI how to lose a simple game using Q-learning."
      ]
    },
    {
      "cell_type": "markdown",
      "id": "2326000a",
      "metadata": {
        "id": "2326000a"
      },
      "source": [
        "## 🎮 The NIM Game Rules\n",
        "- Start with 25 sticks.\n",
        "- Each player takes 1, 2, 3, 4, 5 sticks on their turn.\n",
        "- The player who takes the **last stick loses**.\n",
        "\n",
        "We'll train an AI to get dumb over time!"
      ]
    },
    {
      "cell_type": "code",
      "execution_count": 24,
      "id": "d6b59538",
      "metadata": {
        "id": "d6b59538"
      },
      "outputs": [],
      "source": [
        "MAX_STICKS = 25\n",
        "ACTIONS = [1, 2, 3, 4, 5]"
      ]
    },
    {
      "cell_type": "markdown",
      "id": "598d7dad",
      "metadata": {
        "id": "598d7dad"
      },
      "source": [
        "## 🧠 Step 1: Create a Q-table\n",
        "We’ll use a dictionary to store the AI’s knowledge — the expected value (Q) of taking each action in every possible state."
      ]
    },
    {
      "cell_type": "code",
      "execution_count": 25,
      "id": "0ab88528",
      "metadata": {
        "id": "0ab88528"
      },
      "outputs": [],
      "source": [
        "Q = {}"
      ]
    },
    {
      "cell_type": "markdown",
      "id": "3c985115",
      "metadata": {
        "id": "3c985115"
      },
      "source": [
        "## 🎲 Step 2: Action Choice\n",
        "Let’s write a function that chooses an action. We’ll use **epsilon-greedy**"
      ]
    },
    {
      "cell_type": "code",
      "execution_count": 26,
      "id": "e717bdea",
      "metadata": {
        "id": "e717bdea"
      },
      "outputs": [],
      "source": [
        "\n",
        "import random\n",
        "\n",
        "def choose_action(state, epsilon):\n",
        "    if state not in Q:\n",
        "        Q[state] = {a: 0 for a in ACTIONS}\n",
        "    if random.random() < epsilon:\n",
        "        return random.choice([a for a in ACTIONS if a <= state])\n",
        "    else:\n",
        "      action = [a for a in ACTIONS if a <= state]\n",
        "      if not action:\n",
        "          return random.choice(ACTIONS)\n",
        "    return min({a:Q[state] for a in action}, key = lambda a: Q[state][a])\n"
      ]
    },
    {
      "cell_type": "markdown",
      "id": "9d01dfae",
      "metadata": {
        "id": "9d01dfae"
      },
      "source": [
        "## 💡 Step 3: Q-Value Update Rule\n",
        "We’ll update the Q-values using this formula:\n",
        "```\n",
        "Q(s,a) = Q(s,a) + alpha * (reward + gamma * min(Q(s') - Q(s,a))\n",
        "```"
      ]
    },
    {
      "cell_type": "code",
      "execution_count": 27,
      "id": "d3ed83b9",
      "metadata": {
        "id": "d3ed83b9"
      },
      "outputs": [],
      "source": [
        "\n",
        "def update_q(state, action, reward, next_state, alpha=0.1, gamma=0.9):\n",
        "    if state not in Q:\n",
        "        Q[state] = {a: 0 for a in ACTIONS}\n",
        "    if next_state not in Q:\n",
        "        Q[next_state] = {a: 0 for a in ACTIONS}\n",
        "    max_q_next = min(Q[next_state].values())\n",
        "    Q[state][action] += alpha * (reward + gamma * max_q_next - Q[state][action])\n"
      ]
    },
    {
      "cell_type": "markdown",
      "id": "5302fc2c",
      "metadata": {
        "id": "5302fc2c"
      },
      "source": [
        "## 🔁 Step 4: Training Loop\n",
        "Now we’ll play lots of games where the AI learns from experience but gets more dumb over time"
      ]
    },
    {
      "cell_type": "code",
      "execution_count": 28,
      "id": "2fe1d694",
      "metadata": {
        "id": "2fe1d694"
      },
      "outputs": [],
      "source": [
        "def train(episodes=10000, epsilon=0.3, alpha=0.1, gamma=0.9):\n",
        "    for _ in range(episodes):\n",
        "        state = MAX_STICKS\n",
        "        last_state, last_action = None, None\n",
        "\n",
        "        while state > 0:\n",
        "            action = choose_action(state, epsilon)\n",
        "            next_state = state - action\n",
        "\n",
        "            if last_state is not None:\n",
        "                update_q(last_state, last_action, 0, state, alpha, gamma)\n",
        "\n",
        "            last_state = state\n",
        "            last_action = action\n",
        "\n",
        "            if next_state == 0:\n",
        "                update_q(state, action, -1, next_state, alpha, gamma)\n",
        "                break\n",
        "\n",
        "            valid_opponent_actions = [a for a in ACTIONS if a <= next_state]\n",
        "            if not valid_opponent_actions:\n",
        "                update_q(last_state, last_action, 0, next_state, alpha, gamma)\n",
        "                break\n",
        "\n",
        "            opponent_action = random.choice(valid_opponent_actions)\n",
        "            state = next_state - opponent_action\n",
        "\n",
        "            if state <= 0:\n",
        "                update_q(last_state, last_action, 1, next_state, alpha, gamma)\n",
        "                break\n"
      ]
    },
    {
      "cell_type": "markdown",
      "id": "63bf4e99",
      "metadata": {
        "id": "63bf4e99"
      },
      "source": [
        "## 🚀 Train the AI!"
      ]
    },
    {
      "cell_type": "code",
      "execution_count": 29,
      "id": "0c4b8ebe",
      "metadata": {
        "id": "0c4b8ebe"
      },
      "outputs": [],
      "source": [
        "train()"
      ]
    },
    {
      "cell_type": "code",
      "source": [
        "print(Q)"
      ],
      "metadata": {
        "colab": {
          "base_uri": "https://localhost:8080/"
        },
        "id": "nGmkPcQFjQt5",
        "outputId": "3e1b45a1-fcaf-48b0-9d36-2cf0156b187c"
      },
      "id": "nGmkPcQFjQt5",
      "execution_count": 30,
      "outputs": [
        {
          "output_type": "stream",
          "name": "stdout",
          "text": [
            "{25: {1: -0.665813948471106, 2: -0.6845847906072849, 3: -0.6954657023869836, 4: -0.7000413677366316, 5: -0.7249038272887491}, 16: {1: -0.767875489279974, 2: -0.7875831198132539, 3: -0.7986009369148037, 4: -0.8099999999999987, 5: -0.7983017546734399}, 10: {1: -0.8400889060927386, 2: -0.8716851301551365, 3: -0.8516037044522361, 4: -0.899999999999999, 5: -0.7940740500570043}, 7: {1: -0.899999999999999, 2: -0.6900160288760596, 3: -0.7124920502834486, 4: -0.6825443750481636, 5: -0.4135423822443195}, 4: {1: -0.4650297953376299, 2: -0.3021498932480863, 3: 0.09999999968997327, 4: -0.9999999999999996, 5: 0}, 2: {1: 0.10000000000001696, 2: -0.9999999999999996, 3: 0, 4: 0, 5: 0}, 23: {1: -0.42441909060238747, 2: -0.7155604597461888, 3: -0.19351491114590536, 4: -0.261625458100728, 5: -0.19755764405759313}, 19: {1: -0.7289445235262316, 2: -0.734814140944574, 3: -0.7489638878651317, 4: -0.7634370776963821, 5: -0.7939758354198566}, 14: {1: -0.7791648219527992, 2: -0.8099999940375344, 3: -0.7787280801005627, 4: -0.748826835575673, 5: -0.7887000899327922}, 11: {1: -0.8109339367683522, 2: -0.8134790512540481, 3: -0.8603055509912199, 4: -0.8739312987669943, 5: -0.899999999999999}, 1: {1: -0.9999999999999996, 2: 0, 3: 0, 4: 0, 5: 0}, 20: {1: -0.7270800661803345, 2: -0.6681471617359339, 3: -0.672721451233598, 4: -0.7071131646326946, 5: -0.7096303253539598}, 9: {1: -0.7980665963135822, 2: -0.8739016914026971, 3: -0.899999999999999, 4: -0.7592043277962378, 5: -0.7859962439687225}, 12: {1: -0.7877773466402731, 2: -0.7978262791906109, 3: -0.8170630363788436, 4: -0.8417049766418875, 5: -0.8786876590416485}, 5: {1: -0.636699938670319, 2: -0.5294741838151453, 3: -0.26170740480995086, 4: 0.0999999686822376, 5: -0.9999999999999996}, 0: {1: 0, 2: 0, 3: 0, 4: 0, 5: 0}, 17: {1: -0.7612083086635318, 2: -0.7633427240283184, 3: -0.7890889453561559, 4: -0.8044443191455161, 5: -0.8099999999999987}, 8: {1: -0.872065522199301, 2: -0.899999999999999, 3: -0.6485965914225008, 4: -0.3197626185720675, 5: -0.6355946730309028}, 6: {1: -0.8760642791282021, 2: -0.5926381906291253, 3: -0.4337337960955241, 4: -0.33473274886845916, 5: 0.09978468073516748}, 22: {1: -0.5263401986538128, 2: -0.40932665121438094, 3: -0.40714634627019797, 4: -0.4961511465735667, 5: -0.7371034433705693}, 18: {1: -0.7364561436570403, 2: -0.7473815202210611, 3: -0.7654532789733565, 4: -0.7860582392582148, 5: -0.8032883700722249}, 3: {1: -0.47090211301147505, 2: 0.09999999999332537, 3: -0.9999999999999996, 4: 0, 5: 0}, 15: {1: -0.7752199178217442, 2: -0.7977982463807335, 3: -0.8099999999999987, 4: -0.7890282221855499, 5: -0.8087182651506326}, 13: {1: -0.809999708444222, 2: -0.7871872272940578, 3: -0.8074153926320538, 4: -0.8072057984082636, 5: -0.8049678233430168}, 21: {1: -0.5932334774101042, 2: -0.7278323708596321, 3: -0.6946123936995573, 4: -0.5705701521873316, 5: -0.6548082951566537}}\n"
          ]
        }
      ]
    },
    {
      "cell_type": "markdown",
      "id": "2c30e744",
      "metadata": {
        "id": "2c30e744"
      },
      "source": [
        "## 🧪 Let’s play against the AI!"
      ]
    },
    {
      "cell_type": "code",
      "execution_count": 31,
      "id": "24fb8cf3",
      "metadata": {
        "id": "24fb8cf3"
      },
      "outputs": [],
      "source": [
        "\n",
        "def play():\n",
        "    state = MAX_STICKS\n",
        "    while state > 0:\n",
        "        print(f\"Sticks left: {state}\")\n",
        "        move = int(input(\"Your move (1–5): \"))\n",
        "        if move not in [1,2,3,4,5] or move > state:\n",
        "            print(\"Invalid move.\")\n",
        "            continue\n",
        "        state -= move\n",
        "        if state <= 0:\n",
        "            print(\"You took the last stick. You lose!\")\n",
        "            return\n",
        "        if state in Q:\n",
        "            ai_move = choose_action(state, epsilon=0)\n",
        "        else:\n",
        "            ai_move = random.choice([a for a in ACTIONS if a <= state])\n",
        "        print(f\"AI takes {ai_move} stick(s).\")\n",
        "        state -= ai_move\n",
        "        if state <= 0:\n",
        "            print(\"AI took the last stick. You win!\")\n",
        "            return\n"
      ]
    },
    {
      "cell_type": "code",
      "execution_count": 32,
      "id": "e912145f",
      "metadata": {
        "colab": {
          "base_uri": "https://localhost:8080/"
        },
        "id": "e912145f",
        "outputId": "ad011e5d-c082-4e21-a7fa-48a8dd125326"
      },
      "outputs": [
        {
          "output_type": "stream",
          "name": "stdout",
          "text": [
            "Sticks left: 25\n",
            "Your move (1–5): 1\n",
            "AI takes 4 stick(s).\n",
            "Sticks left: 20\n",
            "Your move (1–5): 1\n",
            "AI takes 5 stick(s).\n",
            "Sticks left: 14\n",
            "Your move (1–5): 1\n",
            "AI takes 1 stick(s).\n",
            "Sticks left: 12\n",
            "Your move (1–5): 2\n",
            "AI takes 4 stick(s).\n",
            "Sticks left: 6\n",
            "Your move (1–5): 5\n",
            "AI takes 1 stick(s).\n",
            "AI took the last stick. You win!\n"
          ]
        }
      ],
      "source": [
        "play()"
      ]
    },
    {
      "cell_type": "markdown",
      "id": "cc857d07",
      "metadata": {
        "id": "cc857d07"
      },
      "source": [
        "## 🎉 Summary\n",
        "You just trained an agent to play a game using trial-and-error. That’s the magic of Reinforcement Learning!"
      ]
    },
    {
      "cell_type": "code",
      "source": [],
      "metadata": {
        "id": "8amBEBkPAgRx"
      },
      "id": "8amBEBkPAgRx",
      "execution_count": null,
      "outputs": []
    }
  ],
  "metadata": {
    "kernelspec": {
      "display_name": "Python 3",
      "language": "python",
      "name": "python3"
    },
    "language": "python",
    "language_info": {
      "codemirror_mode": {
        "name": "ipython",
        "version": 3
      },
      "file_extension": ".py",
      "mimetype": "text/x-python",
      "name": "python",
      "nbconvert_exporter": "python",
      "pygments_lexer": "ipython3",
      "version": "3.12.6"
    },
    "colab": {
      "provenance": [],
      "include_colab_link": true
    }
  },
  "nbformat": 4,
  "nbformat_minor": 5
}